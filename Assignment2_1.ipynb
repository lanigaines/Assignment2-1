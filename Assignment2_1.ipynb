{
  "nbformat": 4,
  "nbformat_minor": 0,
  "metadata": {
    "colab": {
      "provenance": [],
      "toc_visible": true,
      "authorship_tag": "ABX9TyNk2aQxrj5LqJeGDRn2dVKM",
      "include_colab_link": true
    },
    "kernelspec": {
      "name": "python3",
      "display_name": "Python 3"
    },
    "language_info": {
      "name": "python"
    }
  },
  "cells": [
    {
      "cell_type": "markdown",
      "metadata": {
        "id": "view-in-github",
        "colab_type": "text"
      },
      "source": [
        "<a href=\"https://colab.research.google.com/github/lanigaines/Assignment2-1/blob/main/Assignment2_1.ipynb\" target=\"_parent\"><img src=\"https://colab.research.google.com/assets/colab-badge.svg\" alt=\"Open In Colab\"/></a>"
      ]
    },
    {
      "cell_type": "code",
      "source": [
        "def main():\n",
        "    \"\"\"\n",
        "    ##################################################\n",
        "    Comlete your code here\n",
        "    Use m_perc, f_perc, nb_perc for your results\n",
        "    ##################################################\n",
        "    \"\"\"\n",
        "\n",
        "    # Example: Assuming you have the counts of males, females, and non-binary individuals\n",
        "    # Replace these with your actual calculations\n",
        "    males = 40\n",
        "    females = 40\n",
        "    non_binary = 20\n",
        "    total = males + females + non_binary\n",
        "\n",
        "    m_perc = (males / total) * 100\n",
        "    f_perc = (females / total) * 100\n",
        "    nb_perc = (non_binary / total) * 100\n",
        "\n",
        "    \"\"\"\n",
        "    ########################################\n",
        "    # Do not delete the return statement\n",
        "    ########################################\n",
        "    \"\"\"\n",
        "    print(\n",
        "        f'The percentage of males, females and non-binary \\t {m_perc: .2f} \\t {f_perc: .2f} \\t {nb_perc: .2f}')\n",
        "    return m_perc, f_perc, nb_perc\n",
        "\n",
        "\n",
        "if __name__ == '__main__':\n",
        "    main()\n"
      ],
      "metadata": {
        "id": "1Q1Zrq-QkOTU",
        "colab": {
          "base_uri": "https://localhost:8080/"
        },
        "outputId": "9d56ee5e-bf3a-4b36-cf92-637690e380a7",
        "collapsed": true
      },
      "execution_count": 2,
      "outputs": [
        {
          "output_type": "stream",
          "name": "stdout",
          "text": [
            "The percentage of males, females and non-binary \t  40.00 \t  40.00 \t  20.00\n"
          ]
        }
      ]
    },
    {
      "cell_type": "code",
      "source": [],
      "metadata": {
        "id": "lqS305NJLq5Z"
      },
      "execution_count": null,
      "outputs": []
    },
    {
      "cell_type": "markdown",
      "source": [
        "# New Section"
      ],
      "metadata": {
        "id": "eyi3rQwz_gkN"
      }
    }
  ]
}