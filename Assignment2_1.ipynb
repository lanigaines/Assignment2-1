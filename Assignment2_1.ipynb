{
  "cells": [
    {
      "cell_type": "markdown",
      "metadata": {
        "colab_type": "text",
        "id": "view-in-github"
      },
      "source": [
        "<a href=\"https://colab.research.google.com/github/lanigaines/Assignment2-1/blob/main/Assignment2_1.ipynb\" target=\"_parent\"><img src=\"https://colab.research.google.com/assets/colab-badge.svg\" alt=\"Open In Colab\"/></a>"
      ]
    },
    {
      "cell_type": "code",
      "execution_count": null,
      "metadata": {
        "colab": {
          "base_uri": "https://localhost:8080/"
        },
        "collapsed": true,
        "id": "1Q1Zrq-QkOTU",
        "outputId": "9d56ee5e-bf3a-4b36-cf92-637690e380a7"
      },
      "outputs": [
        {
          "ename": "",
          "evalue": "",
          "output_type": "error",
          "traceback": [
            "\u001b[1;31mRunning cells with 'Python 3.9.6' requires the ipykernel package.\n",
            "\u001b[1;31mRun the following command to install 'ipykernel' into the Python environment. \n",
            "\u001b[1;31mCommand: '/usr/bin/python3 -m pip install ipykernel -U --user --force-reinstall'"
          ]
        }
      ],
      "source": [
        "def main():\n",
        "    \"\"\"\n",
        "    ##################################################\n",
        "    Comlete your code here\n",
        "    Use m_perc, f_perc, nb_perc for your results\n",
        "    ##################################################\n",
        "    \"\"\"\n",
        "\n",
        "    # Example: Assuming you have the counts of males, females, and non-binary individuals\n",
        "    # Replace these with your actual calculations\n",
        "    males = 40\n",
        "    females = 40\n",
        "    non_binary = 20\n",
        "    total = males + females + non_binary\n",
        "\n",
        "    m_perc = (males / total) * 100\n",
        "    f_perc = (females / total) * 100\n",
        "    nb_perc = (non_binary / total) * 100\n",
        "\n",
        "    \"\"\"\n",
        "    ########################################\n",
        "    # Do not delete the return statement\n",
        "    ########################################\n",
        "    \"\"\"\n",
        "    print(\n",
        "        f'The percentage of males, females and non-binary \\t {m_perc: .2f} \\t {f_perc: .2f} \\t {nb_perc: .2f}')\n",
        "    return m_perc, f_perc, nb_perc\n",
        "\n",
        "\n",
        "if __name__ == '__main__':\n",
        "    main()\n"
      ]
    }
  ],
  "metadata": {
    "colab": {
      "authorship_tag": "ABX9TyNk2aQxrj5LqJeGDRn2dVKM",
      "include_colab_link": true,
      "provenance": [],
      "toc_visible": true
    },
    "kernelspec": {
      "display_name": "Python 3",
      "name": "python3"
    },
    "language_info": {
      "name": "python",
      "version": "3.9.6"
    }
  },
  "nbformat": 4,
  "nbformat_minor": 0
}
